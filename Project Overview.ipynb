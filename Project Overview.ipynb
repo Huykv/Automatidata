{
 "cells": [
  {
   "cell_type": "markdown",
   "metadata": {},
   "source": [
    "## **Background on the Automatidata scenario** \n",
    "\n",
    "Automatidata works with its clients to transform their unused and stored data into useful solutions, such as performance dashboards, customer-facing tools, strategic business insights, and more. They specialize in identifying a client’s business needs and utilizing their data to meet those business needs. \n",
    "\n",
    "Automatidata is consulting for the New York City Taxi and Limousine Commission (TLC). New York City TLC is an agency responsible for licensing and regulating New York City's taxi cabs and for-hire vehicles. The agency has partnered with Automatidata to develop a regression model that helps estimate taxi fares before the ride, based on data that TLC has gathered. \n",
    "\n",
    "The TLC data comes from over 200,000 taxi and limousine licensees, making approximately one million combined trips per day. \n",
    "\n",
    "## **Team members at Automatidata and the New York City TLC**\n",
    "\n",
    "**Automatidata Team Members:**\n",
    "\n",
    "* Udo Bankole, Director of Data Analysis\n",
    "\n",
    "* Deshawn Washington, Data Analysis Manager\n",
    "\n",
    "* Luana Rodriquez, Senior Data Analyst\n",
    "\n",
    "* Uli King, Senior Project Manager\n",
    "\n",
    "Your teammates at Automatidata have technical experience with data analysis and data science. However, you should always be sure to keep summaries and messages to these team members concise and to the point. \n",
    "\n",
    "**New York City TLC Team Members:**\n",
    "\n",
    "* Juliana Soto, Finance and Administration Department Head\n",
    "\n",
    "* Titus Nelson, Operations Manager\n",
    "\n",
    "The TLC team members are program managers who oversee operations at the organization. Their roles are not highly technical, so be sure to adjust your language and explanation accordingly."
   ]
  }
 ],
 "metadata": {
  "language_info": {
   "name": "python"
  }
 },
 "nbformat": 4,
 "nbformat_minor": 2
}
